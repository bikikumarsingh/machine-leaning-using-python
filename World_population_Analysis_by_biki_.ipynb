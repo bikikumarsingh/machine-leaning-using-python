{
  "nbformat": 4,
  "nbformat_minor": 0,
  "metadata": {
    "colab": {
      "private_outputs": true,
      "provenance": []
    },
    "kernelspec": {
      "name": "python3",
      "display_name": "Python 3"
    },
    "language_info": {
      "name": "python"
    }
  },
  "cells": [
    {
      "cell_type": "code",
      "execution_count": null,
      "metadata": {
        "id": "2DBKwVssPb2Z"
      },
      "outputs": [],
      "source": [
        "#importing files\n",
        "from google.colab import files\n",
        "upload = files.upload()"
      ]
    },
    {
      "cell_type": "code",
      "source": [
        "#importing liberary\n",
        "import pandas as pd\n",
        "import numpy as np\n",
        "import matplotlib.pyplot as plt\n",
        "import seaborn as sns"
      ],
      "metadata": {
        "id": "BFmmqNrCPgY9"
      },
      "execution_count": null,
      "outputs": []
    },
    {
      "cell_type": "code",
      "source": [
        "#reading data\n",
        "data =pd.read_csv(\"World Population Dataset.csv\")\n",
        "data.head(5)"
      ],
      "metadata": {
        "id": "IKjHIE-qPjsx"
      },
      "execution_count": null,
      "outputs": []
    },
    {
      "cell_type": "code",
      "source": [
        "#data information\n",
        "data.info()"
      ],
      "metadata": {
        "id": "5tLDN6ioPv2l"
      },
      "execution_count": null,
      "outputs": []
    },
    {
      "cell_type": "code",
      "source": [
        "#droping data\n",
        "data.drop('Capital',axis=1,inplace=True)\n",
        "data"
      ],
      "metadata": {
        "id": "INS4X0FyQDGq"
      },
      "execution_count": null,
      "outputs": []
    },
    {
      "cell_type": "code",
      "source": [
        "data.shape"
      ],
      "metadata": {
        "id": "9tN9kzMtQdUa"
      },
      "execution_count": null,
      "outputs": []
    },
    {
      "cell_type": "code",
      "source": [
        "#only taking top 10 rank data\n",
        "top_rank_countries = data[data[\"Rank\"]<=10]\n",
        "top_rank_countries\n"
      ],
      "metadata": {
        "id": "HDYJlxuRQlaG"
      },
      "execution_count": null,
      "outputs": []
    },
    {
      "cell_type": "code",
      "source": [
        "#sorting data by rank\n",
        "top_rank_sorted = top_rank_countries.sort_values(by=\"Rank\",axis=0,ascending=True)\n",
        "top_rank_sorted"
      ],
      "metadata": {
        "id": "z-MonYtaQxNG"
      },
      "execution_count": null,
      "outputs": []
    },
    {
      "cell_type": "code",
      "source": [
        "india_row = top_rank_sorted.iloc[1]\n",
        "india_row.drop([\"Rank\",\"Continent\",\"Area (km²)\",\"World Population Percentage\"],axis=0,inplace=True)\n",
        "india_row.drop(\"country\",axis=0,inplace=True)\n",
        "india_row"
      ],
      "metadata": {
        "id": "q_wVTKWMRSJV"
      },
      "execution_count": null,
      "outputs": []
    },
    {
      "cell_type": "code",
      "source": [
        "#india_row.rename({'1970 Population':'1970','1980 Population':'1980'},inplace=True)"
      ],
      "metadata": {
        "id": "rQbZR4kLUvDD"
      },
      "execution_count": null,
      "outputs": []
    },
    {
      "cell_type": "code",
      "source": [
        "#renaming years names\n",
        "india_row.rename({'1970 Population':'1970','1980 Population':'1980','1990 Population':'1990','2000 Population':'2000','2010 Population':'2010','2015 Population':'2015','2020 Population':'2020'},inplace=True)\n",
        "india_row"
      ],
      "metadata": {
        "id": "IfuXi3-RR1hX"
      },
      "execution_count": null,
      "outputs": []
    },
    {
      "cell_type": "code",
      "source": [
        "new_table= pd.DataFrame(india_row)\n",
        "new_table[\"Population\"]= india_row\n",
        "new_table"
      ],
      "metadata": {
        "id": "pQJ5Uz6wStae"
      },
      "execution_count": null,
      "outputs": []
    },
    {
      "cell_type": "code",
      "source": [
        "new_table.info()"
      ],
      "metadata": {
        "id": "GQzr8LIHUWcm"
      },
      "execution_count": null,
      "outputs": []
    },
    {
      "cell_type": "code",
      "source": [
        "#making new array which contains all the years\n",
        "new_table[\"Year\"] = [1950,1955,1960,1965,1970,1975,1980,1985,1990,1995,2000,2005,2010,2015,2020,2023]\n",
        "new_table"
      ],
      "metadata": {
        "id": "92VcNa2_Ve2j"
      },
      "execution_count": null,
      "outputs": []
    },
    {
      "cell_type": "code",
      "source": [
        "#final table of data\n",
        "final_table = new_table[[\"Year\",\"Population\"]]\n",
        "final_table"
      ],
      "metadata": {
        "id": "_miJOxGjVwLV"
      },
      "execution_count": null,
      "outputs": []
    },
    {
      "cell_type": "code",
      "source": [
        "def simplify(list1):\n",
        "  ans=[]\n",
        "  for i in list1:\n",
        "    if(i>300000000 and i<400000000 ):\n",
        "      ans.append(35)\n",
        "    elif(i>400000000 and i<500000000 ):\n",
        "      ans.append(45)\n",
        "    elif(i>500000000 and i< 600000000):\n",
        "      ans.append(55)\n",
        "    elif(i>600000000 and i< 700000000):\n",
        "      ans.append(65)\n",
        "    elif(i>700000000 and i< 800000000):\n",
        "      ans.append(75)\n",
        "    elif(i>800000000 and i< 900000000):\n",
        "      ans.append(85)\n",
        "    elif(i>900000000 and i< 1000000000):\n",
        "      ans.append(95)\n",
        "    elif(i>1000000000 and i< 1100000000):\n",
        "      ans.append(105)\n",
        "    elif(i>1100000000 and i< 1200000000):\n",
        "      ans.append(115)\n",
        "    elif(i>1200000000 and i< 1300000000):\n",
        "      ans.append(125)\n",
        "    elif(i>1300000000 and i< 1400000000):\n",
        "      ans.append(135)\n",
        "    elif(i>1400000000 and i< 1500000000):\n",
        "      ans.append(145)\n",
        "  return ans\n",
        "years = simplify(final_table[\"Population\"])\n",
        "final_table[\"Population\"] = years\n",
        "final_table"
      ],
      "metadata": {
        "id": "62DK_QcoWmD9"
      },
      "execution_count": null,
      "outputs": []
    },
    {
      "cell_type": "code",
      "source": [
        "final_table = final_table.astype({'Population':'int','Year':'int'})\n",
        "final_table.info()"
      ],
      "metadata": {
        "id": "F94wYVJ-V_-i"
      },
      "execution_count": null,
      "outputs": []
    },
    {
      "cell_type": "code",
      "source": [
        "plt.bar(final_table['Population'], final_table['Year'],width = 4)\n",
        "plt.ylim(1950, 2030)\n",
        "plt.xlabel('Population (in millions)')\n",
        "plt.ylabel('Years')\n",
        "plt.title('Population Progression in India')\n",
        "plt.show()"
      ],
      "metadata": {
        "id": "J40S-ic0WXPG"
      },
      "execution_count": null,
      "outputs": []
    },
    {
      "cell_type": "code",
      "source": [
        "sns.histplot(x='Population', y='Year',data=final_table, legend=True).set(title='Population Progresion in India in the last 5 decades')"
      ],
      "metadata": {
        "id": "0UgdLpYwWcfU"
      },
      "execution_count": null,
      "outputs": []
    },
    {
      "cell_type": "markdown",
      "source": [
        "**Linear Regression**"
      ],
      "metadata": {
        "id": "nezckPxqaAlS"
      }
    },
    {
      "cell_type": "code",
      "source": [
        "data"
      ],
      "metadata": {
        "id": "wG9XzxnSZvZz"
      },
      "execution_count": null,
      "outputs": []
    },
    {
      "cell_type": "code",
      "source": [
        "#added new column of population density\n",
        "data[\"Population Density\"] = (data[\"2023\"]/data[\"Area (km²)\"])\n"
      ],
      "metadata": {
        "id": "7Pk4sd6HaOc7"
      },
      "execution_count": null,
      "outputs": []
    },
    {
      "cell_type": "code",
      "source": [
        "africa_data=data[data[\"Continent\"]==\"Africa\"]\n",
        "africa_data.head()"
      ],
      "metadata": {
        "id": "XBxQLUZXa-fo"
      },
      "execution_count": null,
      "outputs": []
    },
    {
      "cell_type": "code",
      "source": [
        "data_africa = data[data[\"Continent\"] == 'Africa']\n",
        "data_africa.drop(['Rank','country','Area (km²)','Continent'], axis=1, inplace=True)\n",
        "data_africa.head()"
      ],
      "metadata": {
        "id": "zvlWX9z5bHpg"
      },
      "execution_count": null,
      "outputs": []
    },
    {
      "cell_type": "code",
      "source": [
        "from sklearn.linear_model import LinearRegression\n",
        "from sklearn.model_selection import train_test_split"
      ],
      "metadata": {
        "id": "YpbMnwBHcaPc"
      },
      "execution_count": null,
      "outputs": []
    },
    {
      "cell_type": "code",
      "source": [
        "x = data_africa.drop(\"2023\", axis=1)\n",
        "y= data_africa[\"2023\"]"
      ],
      "metadata": {
        "id": "rhY3FDN-dv3n"
      },
      "execution_count": null,
      "outputs": []
    },
    {
      "cell_type": "code",
      "source": [
        "y.shape"
      ],
      "metadata": {
        "id": "SDO8H6kzeDEh"
      },
      "execution_count": null,
      "outputs": []
    },
    {
      "cell_type": "code",
      "source": [
        "x_train,x_test,y_train,y_test = train_test_split(x,y,test_size=0.2,random_state=3)\n",
        "x_test.shape"
      ],
      "metadata": {
        "id": "_l4AI1-Kd06U"
      },
      "execution_count": null,
      "outputs": []
    },
    {
      "cell_type": "code",
      "source": [
        "model = LinearRegression()\n",
        "model.fit(x_train,y_train)"
      ],
      "metadata": {
        "id": "6vYeVsYhd_Rr"
      },
      "execution_count": null,
      "outputs": []
    },
    {
      "cell_type": "code",
      "source": [
        "print(f\"{model.score(x_test,y_test) * 100}%\")"
      ],
      "metadata": {
        "id": "tp_KRD9LeQqi"
      },
      "execution_count": null,
      "outputs": []
    },
    {
      "cell_type": "code",
      "source": [
        "x_test.iloc[0]"
      ],
      "metadata": {
        "id": "JUvow7rDebkV"
      },
      "execution_count": null,
      "outputs": []
    },
    {
      "cell_type": "code",
      "source": [
        "result = model.predict(x_test)\n",
        "result"
      ],
      "metadata": {
        "id": "qK6TXVGHem3A"
      },
      "execution_count": null,
      "outputs": []
    },
    {
      "cell_type": "code",
      "source": [],
      "metadata": {
        "id": "aK346I9jes0S"
      },
      "execution_count": null,
      "outputs": []
    }
  ]
}